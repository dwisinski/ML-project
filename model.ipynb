{
 "cells": [
  {
   "cell_type": "code",
   "execution_count": 1,
   "metadata": {},
   "outputs": [],
   "source": [
    "import numpy as np\n",
    "import pandas as pd\n",
    "import matplotlib.pyplot as plt\n",
    "\n",
    "from os import path\n",
    "from sklearn import preprocessing\n",
    "pd.options.mode.chained_assignment = None"
   ]
  },
  {
   "cell_type": "markdown",
   "metadata": {},
   "source": [
    "## Data Cleaning"
   ]
  },
  {
   "cell_type": "code",
   "execution_count": 2,
   "metadata": {},
   "outputs": [],
   "source": [
    "df = pd.read_csv(\"data/listings_1.csv\")"
   ]
  },
  {
   "cell_type": "code",
   "execution_count": 3,
   "metadata": {},
   "outputs": [],
   "source": [
    "df = df.loc[df[\"room_type\"] == \"Entire home/apt\"]"
   ]
  },
  {
   "cell_type": "code",
   "execution_count": 4,
   "metadata": {},
   "outputs": [],
   "source": [
    "df2 = df[[\"host_response_time\", \"host_response_rate\", \"host_is_superhost\", \"host_listings_count\", \"host_identity_verified\", \"neighbourhood_cleansed\", \"accommodates\", \"bathrooms_text\", \"bedrooms\", \"beds\", \"price\", \"minimum_nights\", \"availability_90\", \"availability_365\", \"number_of_reviews\", \"review_scores_rating\", \"review_scores_accuracy\", \"review_scores_cleanliness\", \"review_scores_checkin\", \"review_scores_communication\", \"review_scores_location\", \"review_scores_value\", \"instant_bookable\"]]"
   ]
  },
  {
   "cell_type": "code",
   "execution_count": 5,
   "metadata": {},
   "outputs": [],
   "source": [
    "df2[\"price\"] = df2[\"price\"].replace('[\\$,]', '', regex=True).astype(float)"
   ]
  },
  {
   "cell_type": "code",
   "execution_count": 6,
   "metadata": {},
   "outputs": [],
   "source": [
    "df2.drop(df2[(df2[\"availability_365\"]<30) | (df2[\"number_of_reviews\"]<10) | (df2[\"minimum_nights\"]>7) | (df2[\"price\"]>2500)].index, inplace=True)"
   ]
  },
  {
   "cell_type": "code",
   "execution_count": 7,
   "metadata": {},
   "outputs": [],
   "source": [
    "df2[\"bathrooms\"] = df2[\"bathrooms_text\"].str.extract(r'(\\d*\\.?\\d*)')"
   ]
  },
  {
   "cell_type": "code",
   "execution_count": 8,
   "metadata": {},
   "outputs": [],
   "source": [
    "df2[\"bathrooms\"].replace(\"\",\"0\",inplace=True)"
   ]
  },
  {
   "cell_type": "code",
   "execution_count": 9,
   "metadata": {},
   "outputs": [],
   "source": [
    "df2[\"bathrooms\"] = df2[\"bathrooms\"].astype(float)"
   ]
  },
  {
   "cell_type": "code",
   "execution_count": 10,
   "metadata": {},
   "outputs": [],
   "source": [
    "df2[\"bathrooms_text\"] = df2[\"bathrooms\"]\n",
    "df2.drop(columns=[\"bathrooms\"],inplace=True)\n",
    "df2.rename(columns={\"bathrooms_text\": \"bathrooms\"},inplace=True)"
   ]
  },
  {
   "cell_type": "code",
   "execution_count": 11,
   "metadata": {},
   "outputs": [],
   "source": [
    "# df2[\"bathrooms\"].unique().tolist()"
   ]
  },
  {
   "cell_type": "code",
   "execution_count": 12,
   "metadata": {},
   "outputs": [],
   "source": [
    "# df2[\"bathrooms\"].mean()"
   ]
  },
  {
   "cell_type": "code",
   "execution_count": 13,
   "metadata": {},
   "outputs": [],
   "source": [
    "df2[\"host_listings_count\"] = df2[\"host_listings_count\"].astype(\"int64\")"
   ]
  },
  {
   "cell_type": "code",
   "execution_count": 14,
   "metadata": {},
   "outputs": [],
   "source": [
    "df2.replace({\"host_response_time\": {\"within an hour\":4, \"within a few hours\":3, \"within a day\":2, \"a few days or more\":1}},inplace=True)"
   ]
  },
  {
   "cell_type": "code",
   "execution_count": 15,
   "metadata": {},
   "outputs": [],
   "source": [
    "df2.replace({\"host_is_superhost\": {\"t\":1, \"f\":0}},inplace=True)"
   ]
  },
  {
   "cell_type": "code",
   "execution_count": 16,
   "metadata": {},
   "outputs": [],
   "source": [
    "df2.replace({\"host_identity_verified\": {\"t\":1, \"f\":0}},inplace=True)"
   ]
  },
  {
   "cell_type": "code",
   "execution_count": 17,
   "metadata": {},
   "outputs": [],
   "source": [
    "df2.replace({\"instant_bookable\": {\"t\":1, \"f\":0}},inplace=True)"
   ]
  },
  {
   "cell_type": "code",
   "execution_count": 18,
   "metadata": {},
   "outputs": [],
   "source": [
    "df2[\"host_response_rate\"] = df2[\"host_response_rate\"].str[:-1].astype(float)"
   ]
  },
  {
   "cell_type": "code",
   "execution_count": 19,
   "metadata": {},
   "outputs": [],
   "source": [
    "df2.dropna(inplace=True)"
   ]
  },
  {
   "cell_type": "code",
   "execution_count": 20,
   "metadata": {},
   "outputs": [],
   "source": [
    "df2[\"score\"] = (df2[\"price\"] * .1/(df2[\"availability_365\"]/365) * df2[\"review_scores_rating\"] * df2[\"number_of_reviews\"]).round(decimals=2)"
   ]
  },
  {
   "cell_type": "code",
   "execution_count": 21,
   "metadata": {},
   "outputs": [],
   "source": [
    "# df2[\"score\"].sort_values(ascending=False)"
   ]
  },
  {
   "cell_type": "code",
   "execution_count": 22,
   "metadata": {},
   "outputs": [],
   "source": [
    "# df2 = pd.get_dummies(df2)"
   ]
  },
  {
   "cell_type": "code",
   "execution_count": 23,
   "metadata": {},
   "outputs": [],
   "source": [
    "df2[\"score_normalized\"] = preprocessing.scale(df2[\"score\"])"
   ]
  },
  {
   "cell_type": "code",
   "execution_count": 24,
   "metadata": {},
   "outputs": [],
   "source": [
    "df2.drop(columns=[\"score\"], inplace=True)"
   ]
  },
  {
   "cell_type": "code",
   "execution_count": 25,
   "metadata": {},
   "outputs": [],
   "source": [
    "# df2[\"neighbourhood_cleansed\"].value_counts()"
   ]
  },
  {
   "cell_type": "code",
   "execution_count": 26,
   "metadata": {},
   "outputs": [],
   "source": [
    "# df3 = df2.groupby(\"neighbourhood_cleansed\")[\"review_scores_location\"].mean().sort_values(ascending=False)\n",
    "# df3.to_csv(r'avg_loc_rating.csv', index = True)"
   ]
  },
  {
   "cell_type": "code",
   "execution_count": 27,
   "metadata": {},
   "outputs": [],
   "source": [
    "df2.drop(columns=[\"neighbourhood_cleansed\"], inplace=True)"
   ]
  },
  {
   "cell_type": "code",
   "execution_count": 28,
   "metadata": {},
   "outputs": [
    {
     "name": "stdout",
     "output_type": "stream",
     "text": [
      "<class 'pandas.core.frame.DataFrame'>\n",
      "Int64Index: 1572 entries, 1 to 5988\n",
      "Data columns (total 23 columns):\n",
      " #   Column                       Non-Null Count  Dtype  \n",
      "---  ------                       --------------  -----  \n",
      " 0   host_response_time           1572 non-null   float64\n",
      " 1   host_response_rate           1572 non-null   float64\n",
      " 2   host_is_superhost            1572 non-null   int64  \n",
      " 3   host_listings_count          1572 non-null   int64  \n",
      " 4   host_identity_verified       1572 non-null   int64  \n",
      " 5   accommodates                 1572 non-null   int64  \n",
      " 6   bathrooms                    1572 non-null   float64\n",
      " 7   bedrooms                     1572 non-null   float64\n",
      " 8   beds                         1572 non-null   float64\n",
      " 9   price                        1572 non-null   float64\n",
      " 10  minimum_nights               1572 non-null   int64  \n",
      " 11  availability_90              1572 non-null   int64  \n",
      " 12  availability_365             1572 non-null   int64  \n",
      " 13  number_of_reviews            1572 non-null   int64  \n",
      " 14  review_scores_rating         1572 non-null   float64\n",
      " 15  review_scores_accuracy       1572 non-null   float64\n",
      " 16  review_scores_cleanliness    1572 non-null   float64\n",
      " 17  review_scores_checkin        1572 non-null   float64\n",
      " 18  review_scores_communication  1572 non-null   float64\n",
      " 19  review_scores_location       1572 non-null   float64\n",
      " 20  review_scores_value          1572 non-null   float64\n",
      " 21  instant_bookable             1572 non-null   int64  \n",
      " 22  score_normalized             1572 non-null   float64\n",
      "dtypes: float64(14), int64(9)\n",
      "memory usage: 294.8 KB\n"
     ]
    }
   ],
   "source": [
    "df2.info()"
   ]
  },
  {
   "cell_type": "code",
   "execution_count": 29,
   "metadata": {},
   "outputs": [
    {
     "data": {
      "text/html": [
       "<div>\n",
       "<style scoped>\n",
       "    .dataframe tbody tr th:only-of-type {\n",
       "        vertical-align: middle;\n",
       "    }\n",
       "\n",
       "    .dataframe tbody tr th {\n",
       "        vertical-align: top;\n",
       "    }\n",
       "\n",
       "    .dataframe thead th {\n",
       "        text-align: right;\n",
       "    }\n",
       "</style>\n",
       "<table border=\"1\" class=\"dataframe\">\n",
       "  <thead>\n",
       "    <tr style=\"text-align: right;\">\n",
       "      <th></th>\n",
       "      <th>host_response_time</th>\n",
       "      <th>host_response_rate</th>\n",
       "      <th>host_is_superhost</th>\n",
       "      <th>host_listings_count</th>\n",
       "      <th>host_identity_verified</th>\n",
       "      <th>accommodates</th>\n",
       "      <th>bathrooms</th>\n",
       "      <th>bedrooms</th>\n",
       "      <th>beds</th>\n",
       "      <th>price</th>\n",
       "      <th>...</th>\n",
       "      <th>number_of_reviews</th>\n",
       "      <th>review_scores_rating</th>\n",
       "      <th>review_scores_accuracy</th>\n",
       "      <th>review_scores_cleanliness</th>\n",
       "      <th>review_scores_checkin</th>\n",
       "      <th>review_scores_communication</th>\n",
       "      <th>review_scores_location</th>\n",
       "      <th>review_scores_value</th>\n",
       "      <th>instant_bookable</th>\n",
       "      <th>score_normalized</th>\n",
       "    </tr>\n",
       "  </thead>\n",
       "  <tbody>\n",
       "    <tr>\n",
       "      <th>0</th>\n",
       "      <td>4.0</td>\n",
       "      <td>100.0</td>\n",
       "      <td>1</td>\n",
       "      <td>2</td>\n",
       "      <td>1</td>\n",
       "      <td>2</td>\n",
       "      <td>1.0</td>\n",
       "      <td>1.0</td>\n",
       "      <td>1.0</td>\n",
       "      <td>65.0</td>\n",
       "      <td>...</td>\n",
       "      <td>401</td>\n",
       "      <td>4.66</td>\n",
       "      <td>4.83</td>\n",
       "      <td>4.52</td>\n",
       "      <td>4.89</td>\n",
       "      <td>4.85</td>\n",
       "      <td>4.87</td>\n",
       "      <td>4.72</td>\n",
       "      <td>0</td>\n",
       "      <td>2.034834</td>\n",
       "    </tr>\n",
       "    <tr>\n",
       "      <th>1</th>\n",
       "      <td>4.0</td>\n",
       "      <td>100.0</td>\n",
       "      <td>1</td>\n",
       "      <td>10</td>\n",
       "      <td>1</td>\n",
       "      <td>4</td>\n",
       "      <td>1.0</td>\n",
       "      <td>2.0</td>\n",
       "      <td>2.0</td>\n",
       "      <td>143.0</td>\n",
       "      <td>...</td>\n",
       "      <td>28</td>\n",
       "      <td>4.50</td>\n",
       "      <td>4.64</td>\n",
       "      <td>4.68</td>\n",
       "      <td>4.68</td>\n",
       "      <td>4.64</td>\n",
       "      <td>4.96</td>\n",
       "      <td>4.54</td>\n",
       "      <td>1</td>\n",
       "      <td>-0.408064</td>\n",
       "    </tr>\n",
       "    <tr>\n",
       "      <th>2</th>\n",
       "      <td>3.0</td>\n",
       "      <td>92.0</td>\n",
       "      <td>0</td>\n",
       "      <td>3</td>\n",
       "      <td>1</td>\n",
       "      <td>2</td>\n",
       "      <td>1.0</td>\n",
       "      <td>1.0</td>\n",
       "      <td>1.0</td>\n",
       "      <td>99.0</td>\n",
       "      <td>...</td>\n",
       "      <td>11</td>\n",
       "      <td>4.73</td>\n",
       "      <td>4.73</td>\n",
       "      <td>4.73</td>\n",
       "      <td>4.64</td>\n",
       "      <td>4.73</td>\n",
       "      <td>4.73</td>\n",
       "      <td>4.73</td>\n",
       "      <td>0</td>\n",
       "      <td>-0.609725</td>\n",
       "    </tr>\n",
       "    <tr>\n",
       "      <th>3</th>\n",
       "      <td>3.0</td>\n",
       "      <td>100.0</td>\n",
       "      <td>1</td>\n",
       "      <td>3</td>\n",
       "      <td>1</td>\n",
       "      <td>6</td>\n",
       "      <td>2.0</td>\n",
       "      <td>3.0</td>\n",
       "      <td>3.0</td>\n",
       "      <td>214.0</td>\n",
       "      <td>...</td>\n",
       "      <td>97</td>\n",
       "      <td>4.69</td>\n",
       "      <td>4.78</td>\n",
       "      <td>4.65</td>\n",
       "      <td>4.87</td>\n",
       "      <td>4.83</td>\n",
       "      <td>4.85</td>\n",
       "      <td>4.63</td>\n",
       "      <td>0</td>\n",
       "      <td>0.084744</td>\n",
       "    </tr>\n",
       "    <tr>\n",
       "      <th>4</th>\n",
       "      <td>4.0</td>\n",
       "      <td>100.0</td>\n",
       "      <td>0</td>\n",
       "      <td>0</td>\n",
       "      <td>1</td>\n",
       "      <td>4</td>\n",
       "      <td>1.0</td>\n",
       "      <td>1.0</td>\n",
       "      <td>2.0</td>\n",
       "      <td>69.0</td>\n",
       "      <td>...</td>\n",
       "      <td>22</td>\n",
       "      <td>4.76</td>\n",
       "      <td>4.67</td>\n",
       "      <td>4.48</td>\n",
       "      <td>4.76</td>\n",
       "      <td>4.95</td>\n",
       "      <td>4.48</td>\n",
       "      <td>4.67</td>\n",
       "      <td>0</td>\n",
       "      <td>-0.601280</td>\n",
       "    </tr>\n",
       "  </tbody>\n",
       "</table>\n",
       "<p>5 rows × 23 columns</p>\n",
       "</div>"
      ],
      "text/plain": [
       "   host_response_time  host_response_rate  host_is_superhost  \\\n",
       "0                 4.0               100.0                  1   \n",
       "1                 4.0               100.0                  1   \n",
       "2                 3.0                92.0                  0   \n",
       "3                 3.0               100.0                  1   \n",
       "4                 4.0               100.0                  0   \n",
       "\n",
       "   host_listings_count  host_identity_verified  accommodates  bathrooms  \\\n",
       "0                    2                       1             2        1.0   \n",
       "1                   10                       1             4        1.0   \n",
       "2                    3                       1             2        1.0   \n",
       "3                    3                       1             6        2.0   \n",
       "4                    0                       1             4        1.0   \n",
       "\n",
       "   bedrooms  beds  price  ...  number_of_reviews  review_scores_rating  \\\n",
       "0       1.0   1.0   65.0  ...                401                  4.66   \n",
       "1       2.0   2.0  143.0  ...                 28                  4.50   \n",
       "2       1.0   1.0   99.0  ...                 11                  4.73   \n",
       "3       3.0   3.0  214.0  ...                 97                  4.69   \n",
       "4       1.0   2.0   69.0  ...                 22                  4.76   \n",
       "\n",
       "   review_scores_accuracy  review_scores_cleanliness  review_scores_checkin  \\\n",
       "0                    4.83                       4.52                   4.89   \n",
       "1                    4.64                       4.68                   4.68   \n",
       "2                    4.73                       4.73                   4.64   \n",
       "3                    4.78                       4.65                   4.87   \n",
       "4                    4.67                       4.48                   4.76   \n",
       "\n",
       "   review_scores_communication  review_scores_location  review_scores_value  \\\n",
       "0                         4.85                    4.87                 4.72   \n",
       "1                         4.64                    4.96                 4.54   \n",
       "2                         4.73                    4.73                 4.73   \n",
       "3                         4.83                    4.85                 4.63   \n",
       "4                         4.95                    4.48                 4.67   \n",
       "\n",
       "   instant_bookable  score_normalized  \n",
       "0                 0          2.034834  \n",
       "1                 1         -0.408064  \n",
       "2                 0         -0.609725  \n",
       "3                 0          0.084744  \n",
       "4                 0         -0.601280  \n",
       "\n",
       "[5 rows x 23 columns]"
      ]
     },
     "execution_count": 29,
     "metadata": {},
     "output_type": "execute_result"
    }
   ],
   "source": [
    "df2.reset_index(drop=True, inplace=True)\n",
    "df2.head()"
   ]
  },
  {
   "cell_type": "code",
   "execution_count": 30,
   "metadata": {},
   "outputs": [
    {
     "data": {
      "text/plain": [
       "428     17.876008\n",
       "913     10.769339\n",
       "176      9.285035\n",
       "264      6.246178\n",
       "7        6.242826\n",
       "          ...    \n",
       "1074    -0.621219\n",
       "1490    -0.621361\n",
       "1397    -0.622009\n",
       "1489    -0.622485\n",
       "1445    -0.623160\n",
       "Name: score_normalized, Length: 1572, dtype: float64"
      ]
     },
     "execution_count": 30,
     "metadata": {},
     "output_type": "execute_result"
    }
   ],
   "source": [
    "df2[\"score_normalized\"].sort_values(ascending=False)"
   ]
  },
  {
   "cell_type": "code",
   "execution_count": 31,
   "metadata": {},
   "outputs": [],
   "source": [
    "# df2.loc[428]"
   ]
  },
  {
   "cell_type": "markdown",
   "metadata": {},
   "source": [
    "## Building/testing models"
   ]
  },
  {
   "cell_type": "code",
   "execution_count": 32,
   "metadata": {},
   "outputs": [],
   "source": [
    "selected_features = df2.drop(columns=[\"score_normalized\"])"
   ]
  },
  {
   "cell_type": "code",
   "execution_count": 33,
   "metadata": {},
   "outputs": [
    {
     "name": "stdout",
     "output_type": "stream",
     "text": [
      "(1572, 22) (1572,)\n"
     ]
    }
   ],
   "source": [
    "y = df2[\"score_normalized\"]\n",
    "print(selected_features.shape, y.shape)"
   ]
  },
  {
   "cell_type": "code",
   "execution_count": 34,
   "metadata": {},
   "outputs": [],
   "source": [
    "# Creating test/train split\n",
    "from sklearn.model_selection import train_test_split\n",
    "from sklearn.preprocessing import MinMaxScaler\n",
    "\n",
    "X_train, X_test, y_train, y_test = train_test_split(selected_features, y, test_size=0.3, random_state=21)"
   ]
  },
  {
   "cell_type": "code",
   "execution_count": 35,
   "metadata": {},
   "outputs": [],
   "source": [
    "import xgboost as xgb\n",
    "from sklearn.metrics import explained_variance_score, mean_squared_error, r2_score"
   ]
  },
  {
   "cell_type": "code",
   "execution_count": 36,
   "metadata": {},
   "outputs": [],
   "source": [
    "# Scaling the data\n",
    "X_scaler = MinMaxScaler().fit(X_train)\n",
    "X_train_scaled = X_scaler.transform(X_train)\n",
    "X_test_scaled = X_scaler.transform(X_test)"
   ]
  },
  {
   "cell_type": "code",
   "execution_count": 37,
   "metadata": {},
   "outputs": [],
   "source": [
    "xgb_reg = xgb.XGBRegressor()\n",
    "xgb_reg.fit(X_train_scaled, y_train)\n",
    "training_preds_xgb_reg = xgb_reg.predict(X_train_scaled)\n",
    "val_preds_xgb_reg = xgb_reg.predict(X_test_scaled)"
   ]
  },
  {
   "cell_type": "code",
   "execution_count": 38,
   "metadata": {},
   "outputs": [
    {
     "name": "stdout",
     "output_type": "stream",
     "text": [
      "Training MSE: 0.0\n",
      "Test MSE: 0.1693\n",
      "Training Score (R Squared): 1.0\n",
      "Test Score (R Squared): 0.6101\n"
     ]
    }
   ],
   "source": [
    "print(\"Training MSE:\", round(mean_squared_error(y_train, training_preds_xgb_reg),4))\n",
    "print(\"Test MSE:\", round(mean_squared_error(y_test, val_preds_xgb_reg),4))\n",
    "print(\"Training Score (R Squared):\", round(r2_score(y_train, training_preds_xgb_reg),4))\n",
    "print(\"Test Score (R Squared):\", round(r2_score(y_test, val_preds_xgb_reg),4))"
   ]
  },
  {
   "cell_type": "code",
   "execution_count": 39,
   "metadata": {},
   "outputs": [
    {
     "data": {
      "text/html": [
       "<div>\n",
       "<style scoped>\n",
       "    .dataframe tbody tr th:only-of-type {\n",
       "        vertical-align: middle;\n",
       "    }\n",
       "\n",
       "    .dataframe tbody tr th {\n",
       "        vertical-align: top;\n",
       "    }\n",
       "\n",
       "    .dataframe thead th {\n",
       "        text-align: right;\n",
       "    }\n",
       "</style>\n",
       "<table border=\"1\" class=\"dataframe\">\n",
       "  <thead>\n",
       "    <tr style=\"text-align: right;\">\n",
       "      <th></th>\n",
       "      <th>weight</th>\n",
       "    </tr>\n",
       "  </thead>\n",
       "  <tbody>\n",
       "    <tr>\n",
       "      <th>review_scores_location</th>\n",
       "      <td>0.264818</td>\n",
       "    </tr>\n",
       "    <tr>\n",
       "      <th>number_of_reviews</th>\n",
       "      <td>0.233358</td>\n",
       "    </tr>\n",
       "    <tr>\n",
       "      <th>availability_365</th>\n",
       "      <td>0.230521</td>\n",
       "    </tr>\n",
       "    <tr>\n",
       "      <th>accommodates</th>\n",
       "      <td>0.116346</td>\n",
       "    </tr>\n",
       "    <tr>\n",
       "      <th>price</th>\n",
       "      <td>0.104007</td>\n",
       "    </tr>\n",
       "    <tr>\n",
       "      <th>beds</th>\n",
       "      <td>0.010542</td>\n",
       "    </tr>\n",
       "    <tr>\n",
       "      <th>host_listings_count</th>\n",
       "      <td>0.009448</td>\n",
       "    </tr>\n",
       "    <tr>\n",
       "      <th>review_scores_accuracy</th>\n",
       "      <td>0.005225</td>\n",
       "    </tr>\n",
       "    <tr>\n",
       "      <th>host_identity_verified</th>\n",
       "      <td>0.004823</td>\n",
       "    </tr>\n",
       "    <tr>\n",
       "      <th>review_scores_rating</th>\n",
       "      <td>0.004623</td>\n",
       "    </tr>\n",
       "    <tr>\n",
       "      <th>host_response_rate</th>\n",
       "      <td>0.003949</td>\n",
       "    </tr>\n",
       "    <tr>\n",
       "      <th>review_scores_checkin</th>\n",
       "      <td>0.003701</td>\n",
       "    </tr>\n",
       "    <tr>\n",
       "      <th>review_scores_cleanliness</th>\n",
       "      <td>0.001544</td>\n",
       "    </tr>\n",
       "    <tr>\n",
       "      <th>host_is_superhost</th>\n",
       "      <td>0.001371</td>\n",
       "    </tr>\n",
       "    <tr>\n",
       "      <th>bedrooms</th>\n",
       "      <td>0.001347</td>\n",
       "    </tr>\n",
       "    <tr>\n",
       "      <th>availability_90</th>\n",
       "      <td>0.001038</td>\n",
       "    </tr>\n",
       "    <tr>\n",
       "      <th>minimum_nights</th>\n",
       "      <td>0.000910</td>\n",
       "    </tr>\n",
       "    <tr>\n",
       "      <th>bathrooms</th>\n",
       "      <td>0.000688</td>\n",
       "    </tr>\n",
       "    <tr>\n",
       "      <th>host_response_time</th>\n",
       "      <td>0.000604</td>\n",
       "    </tr>\n",
       "    <tr>\n",
       "      <th>review_scores_value</th>\n",
       "      <td>0.000561</td>\n",
       "    </tr>\n",
       "    <tr>\n",
       "      <th>review_scores_communication</th>\n",
       "      <td>0.000412</td>\n",
       "    </tr>\n",
       "    <tr>\n",
       "      <th>instant_bookable</th>\n",
       "      <td>0.000166</td>\n",
       "    </tr>\n",
       "  </tbody>\n",
       "</table>\n",
       "</div>"
      ],
      "text/plain": [
       "                               weight\n",
       "review_scores_location       0.264818\n",
       "number_of_reviews            0.233358\n",
       "availability_365             0.230521\n",
       "accommodates                 0.116346\n",
       "price                        0.104007\n",
       "beds                         0.010542\n",
       "host_listings_count          0.009448\n",
       "review_scores_accuracy       0.005225\n",
       "host_identity_verified       0.004823\n",
       "review_scores_rating         0.004623\n",
       "host_response_rate           0.003949\n",
       "review_scores_checkin        0.003701\n",
       "review_scores_cleanliness    0.001544\n",
       "host_is_superhost            0.001371\n",
       "bedrooms                     0.001347\n",
       "availability_90              0.001038\n",
       "minimum_nights               0.000910\n",
       "bathrooms                    0.000688\n",
       "host_response_time           0.000604\n",
       "review_scores_value          0.000561\n",
       "review_scores_communication  0.000412\n",
       "instant_bookable             0.000166"
      ]
     },
     "execution_count": 39,
     "metadata": {},
     "output_type": "execute_result"
    }
   ],
   "source": [
    "ft_weights_xgb_reg = pd.DataFrame(xgb_reg.feature_importances_, columns=['weight'], index=X_train.columns)\n",
    "ft_weights_xgb_reg.sort_values('weight', inplace=True, ascending=False)\n",
    "ft_weights_xgb_reg = ft_weights_xgb_reg[~ft_weights_xgb_reg.index.str.contains(\"neighbourhood\")]\n",
    "ft_weights_xgb_reg"
   ]
  },
  {
   "cell_type": "code",
   "execution_count": 40,
   "metadata": {},
   "outputs": [
    {
     "data": {
      "image/png": "[encoded data removed]",
      "text/plain": [
       "<Figure size 576x864 with 1 Axes>"
      ]
     },
     "metadata": {
      "needs_background": "light"
     },
     "output_type": "display_data"
    }
   ],
   "source": [
    "# Plotting feature importances\n",
    "plt.figure(figsize=(8,12))\n",
    "plt.barh(ft_weights_xgb_reg.index[:10], ft_weights_xgb_reg.weight[:10], align='center') \n",
    "plt.title(\"Top Ten Feature Importances per XGBoost Model\", fontsize=14)\n",
    "plt.xlabel(\"Feature Importance\")\n",
    "plt.margins(y=0.01)\n",
    "plt.gca().invert_yaxis()\n",
    "plt.show()"
   ]
  },
  {
   "cell_type": "code",
   "execution_count": 41,
   "metadata": {},
   "outputs": [],
   "source": [
    "# # Creating the GridSearchCV model\n",
    "# from sklearn.model_selection import GridSearchCV"
   ]
  },
  {
   "cell_type": "code",
   "execution_count": 42,
   "metadata": {},
   "outputs": [],
   "source": [
    "# def algorithm_pipeline(X_train_scaled, X_test_scaled, y_train, y_test, \n",
    "#                        model, param_grid, cv=10, scoring_fit='neg_mean_squared_error',\n",
    "#                        do_probabilities = False):\n",
    "#     gs = GridSearchCV(\n",
    "#         estimator=model,\n",
    "#         param_grid=param_grid, \n",
    "#         cv=cv, \n",
    "#         n_jobs=-1, \n",
    "#         scoring=scoring_fit,\n",
    "#         verbose=2\n",
    "#     )\n",
    "#     fitted_model = gs.fit(X_train_scaled, y_train)\n",
    "    \n",
    "#     if do_probabilities:\n",
    "#       pred = fitted_model.predict_proba(X_test_scaled)\n",
    "#     else:\n",
    "#       pred = fitted_model.predict(X_test_scaled)\n",
    "    \n",
    "#     return fitted_model, pred"
   ]
  },
  {
   "cell_type": "code",
   "execution_count": 43,
   "metadata": {},
   "outputs": [],
   "source": [
    "# param_grid = {\n",
    "#     'n_estimators': [400, 700, 1000],\n",
    "#     'colsample_bytree': [0.7, 0.8],\n",
    "#     'gamma': [0.5, 1, 2],\n",
    "#     'max_depth': [5,10,20],\n",
    "#     'reg_alpha': [1.1, 1.2, 1.3],\n",
    "#     'reg_lambda': [1.1, 1.2, 1.3],\n",
    "#     'subsample': [0.7, 0.8, 0.9]\n",
    "# }\n",
    "\n",
    "# model, pred = algorithm_pipeline(X_train_scaled, X_test_scaled, y_train, y_test, xgb_reg, \n",
    "#                                  param_grid, cv=3)\n",
    "\n",
    "# # Root Mean Squared Error\n",
    "# print(np.sqrt(-model.best_score_))\n",
    "# print(model.best_params_)"
   ]
  },
  {
   "cell_type": "code",
   "execution_count": 44,
   "metadata": {},
   "outputs": [],
   "source": [
    "from keras import models, layers, optimizers, regularizers"
   ]
  },
  {
   "cell_type": "code",
   "execution_count": 45,
   "metadata": {},
   "outputs": [
    {
     "name": "stdout",
     "output_type": "stream",
     "text": [
      "Model: \"sequential\"\n",
      "_________________________________________________________________\n",
      "Layer (type)                 Output Shape              Param #   \n",
      "=================================================================\n",
      "dense (Dense)                (None, 128)               2944      \n",
      "_________________________________________________________________\n",
      "dense_1 (Dense)              (None, 256)               33024     \n",
      "_________________________________________________________________\n",
      "dense_2 (Dense)              (None, 256)               65792     \n",
      "_________________________________________________________________\n",
      "dense_3 (Dense)              (None, 1)                 257       \n",
      "=================================================================\n",
      "Total params: 102,017\n",
      "Trainable params: 102,017\n",
      "Non-trainable params: 0\n",
      "_________________________________________________________________\n",
      "None\n"
     ]
    }
   ],
   "source": [
    "# Building the model\n",
    "nn = models.Sequential()\n",
    "nn.add(layers.Dense(128, input_shape=(X_train_scaled.shape[1],), activation='relu'))\n",
    "nn.add(layers.Dense(256, activation='relu'))\n",
    "nn.add(layers.Dense(256, activation='relu'))\n",
    "nn.add(layers.Dense(1, activation='linear'))\n",
    "\n",
    "# Compiling the model\n",
    "nn.compile(loss='mean_squared_error',\n",
    "            optimizer='adam',\n",
    "            metrics=['mean_squared_error'])\n",
    "\n",
    "# Model summary\n",
    "print(nn.summary())"
   ]
  },
  {
   "cell_type": "code",
   "execution_count": 46,
   "metadata": {},
   "outputs": [
    {
     "name": "stdout",
     "output_type": "stream",
     "text": [
      "Epoch 1/100\n",
      "4/4 [==============================] - 10s 138ms/step - loss: 1.7672 - mean_squared_error: 1.7672 - val_loss: 0.8295 - val_mean_squared_error: 0.8295\n",
      "Epoch 2/100\n",
      "4/4 [==============================] - 0s 8ms/step - loss: 1.1511 - mean_squared_error: 1.1511 - val_loss: 0.7560 - val_mean_squared_error: 0.7560\n",
      "Epoch 3/100\n",
      "4/4 [==============================] - 0s 9ms/step - loss: 1.1222 - mean_squared_error: 1.1222 - val_loss: 0.7529 - val_mean_squared_error: 0.7529\n",
      "Epoch 4/100\n",
      "4/4 [==============================] - 0s 7ms/step - loss: 1.1513 - mean_squared_error: 1.1513 - val_loss: 0.7631 - val_mean_squared_error: 0.7631\n",
      "Epoch 5/100\n",
      "4/4 [==============================] - 0s 9ms/step - loss: 1.4884 - mean_squared_error: 1.4884 - val_loss: 0.8930 - val_mean_squared_error: 0.8930\n",
      "Epoch 6/100\n",
      "4/4 [==============================] - 0s 10ms/step - loss: 1.4512 - mean_squared_error: 1.4512 - val_loss: 0.7499 - val_mean_squared_error: 0.7499\n",
      "Epoch 7/100\n",
      "4/4 [==============================] - 0s 8ms/step - loss: 1.2891 - mean_squared_error: 1.2891 - val_loss: 0.7067 - val_mean_squared_error: 0.7067\n",
      "Epoch 8/100\n",
      "4/4 [==============================] - 0s 8ms/step - loss: 1.0837 - mean_squared_error: 1.0837 - val_loss: 0.6577 - val_mean_squared_error: 0.6577\n",
      "Epoch 9/100\n",
      "4/4 [==============================] - 0s 9ms/step - loss: 1.2371 - mean_squared_error: 1.2371 - val_loss: 0.6315 - val_mean_squared_error: 0.6315\n",
      "Epoch 10/100\n",
      "4/4 [==============================] - 0s 11ms/step - loss: 0.8752 - mean_squared_error: 0.8752 - val_loss: 0.6194 - val_mean_squared_error: 0.6194\n",
      "Epoch 11/100\n",
      "4/4 [==============================] - 0s 10ms/step - loss: 1.2663 - mean_squared_error: 1.2663 - val_loss: 1.1100 - val_mean_squared_error: 1.1100\n",
      "Epoch 12/100\n",
      "4/4 [==============================] - 0s 9ms/step - loss: 1.7493 - mean_squared_error: 1.7493 - val_loss: 0.9587 - val_mean_squared_error: 0.9587\n",
      "Epoch 13/100\n",
      "4/4 [==============================] - 0s 9ms/step - loss: 1.2638 - mean_squared_error: 1.2638 - val_loss: 0.6314 - val_mean_squared_error: 0.6314\n",
      "Epoch 14/100\n",
      "4/4 [==============================] - 0s 8ms/step - loss: 1.1897 - mean_squared_error: 1.1897 - val_loss: 0.7677 - val_mean_squared_error: 0.7677\n",
      "Epoch 15/100\n",
      "4/4 [==============================] - 0s 10ms/step - loss: 1.0212 - mean_squared_error: 1.0212 - val_loss: 0.6157 - val_mean_squared_error: 0.6157\n",
      "Epoch 16/100\n",
      "4/4 [==============================] - 0s 10ms/step - loss: 0.9341 - mean_squared_error: 0.9341 - val_loss: 0.5427 - val_mean_squared_error: 0.5427\n",
      "Epoch 17/100\n",
      "4/4 [==============================] - 0s 9ms/step - loss: 1.1219 - mean_squared_error: 1.1219 - val_loss: 0.5419 - val_mean_squared_error: 0.5419\n",
      "Epoch 18/100\n",
      "4/4 [==============================] - 0s 10ms/step - loss: 0.9040 - mean_squared_error: 0.9040 - val_loss: 0.5628 - val_mean_squared_error: 0.5628\n",
      "Epoch 19/100\n",
      "4/4 [==============================] - 0s 10ms/step - loss: 0.8224 - mean_squared_error: 0.8224 - val_loss: 0.5451 - val_mean_squared_error: 0.5451\n",
      "Epoch 20/100\n",
      "4/4 [==============================] - 0s 9ms/step - loss: 1.0931 - mean_squared_error: 1.0931 - val_loss: 0.5194 - val_mean_squared_error: 0.5194\n",
      "Epoch 21/100\n",
      "4/4 [==============================] - 0s 7ms/step - loss: 1.0476 - mean_squared_error: 1.0476 - val_loss: 0.5126 - val_mean_squared_error: 0.5126\n",
      "Epoch 22/100\n",
      "4/4 [==============================] - 0s 9ms/step - loss: 0.9623 - mean_squared_error: 0.9623 - val_loss: 0.4795 - val_mean_squared_error: 0.4795\n",
      "Epoch 23/100\n",
      "4/4 [==============================] - 0s 9ms/step - loss: 0.7948 - mean_squared_error: 0.7948 - val_loss: 0.4683 - val_mean_squared_error: 0.4683\n",
      "Epoch 24/100\n",
      "4/4 [==============================] - 0s 8ms/step - loss: 0.7779 - mean_squared_error: 0.7779 - val_loss: 0.4679 - val_mean_squared_error: 0.4679\n",
      "Epoch 25/100\n",
      "4/4 [==============================] - 0s 8ms/step - loss: 1.0133 - mean_squared_error: 1.0133 - val_loss: 0.4300 - val_mean_squared_error: 0.4300\n",
      "Epoch 26/100\n",
      "4/4 [==============================] - 0s 8ms/step - loss: 0.8944 - mean_squared_error: 0.8944 - val_loss: 0.4441 - val_mean_squared_error: 0.4441\n",
      "Epoch 27/100\n",
      "4/4 [==============================] - 0s 10ms/step - loss: 0.9013 - mean_squared_error: 0.9013 - val_loss: 0.4190 - val_mean_squared_error: 0.4190\n",
      "Epoch 28/100\n",
      "4/4 [==============================] - 0s 8ms/step - loss: 0.6233 - mean_squared_error: 0.6233 - val_loss: 0.4983 - val_mean_squared_error: 0.4983\n",
      "Epoch 29/100\n",
      "4/4 [==============================] - 0s 9ms/step - loss: 1.2285 - mean_squared_error: 1.2285 - val_loss: 0.4947 - val_mean_squared_error: 0.4947\n",
      "Epoch 30/100\n",
      "4/4 [==============================] - 0s 9ms/step - loss: 1.0185 - mean_squared_error: 1.0185 - val_loss: 0.7957 - val_mean_squared_error: 0.7957\n",
      "Epoch 31/100\n",
      "4/4 [==============================] - 0s 10ms/step - loss: 1.1369 - mean_squared_error: 1.1369 - val_loss: 0.4484 - val_mean_squared_error: 0.4484\n",
      "Epoch 32/100\n",
      "4/4 [==============================] - 0s 8ms/step - loss: 0.7032 - mean_squared_error: 0.7032 - val_loss: 0.4853 - val_mean_squared_error: 0.4853\n",
      "Epoch 33/100\n",
      "4/4 [==============================] - 0s 9ms/step - loss: 0.7690 - mean_squared_error: 0.7690 - val_loss: 0.3617 - val_mean_squared_error: 0.3617\n",
      "Epoch 34/100\n",
      "4/4 [==============================] - 0s 8ms/step - loss: 0.8492 - mean_squared_error: 0.8492 - val_loss: 0.3758 - val_mean_squared_error: 0.3758\n",
      "Epoch 35/100\n",
      "4/4 [==============================] - 0s 8ms/step - loss: 0.5816 - mean_squared_error: 0.5816 - val_loss: 0.3437 - val_mean_squared_error: 0.3437\n",
      "Epoch 36/100\n",
      "4/4 [==============================] - 0s 9ms/step - loss: 0.5411 - mean_squared_error: 0.5411 - val_loss: 0.3346 - val_mean_squared_error: 0.3346\n",
      "Epoch 37/100\n",
      "4/4 [==============================] - 0s 8ms/step - loss: 0.5431 - mean_squared_error: 0.5431 - val_loss: 0.3403 - val_mean_squared_error: 0.3403\n",
      "Epoch 38/100\n",
      "4/4 [==============================] - 0s 9ms/step - loss: 0.7633 - mean_squared_error: 0.7633 - val_loss: 0.3432 - val_mean_squared_error: 0.3432\n",
      "Epoch 39/100\n",
      "4/4 [==============================] - 0s 11ms/step - loss: 0.5547 - mean_squared_error: 0.5547 - val_loss: 0.3129 - val_mean_squared_error: 0.3129\n",
      "Epoch 40/100\n",
      "4/4 [==============================] - 0s 8ms/step - loss: 0.5265 - mean_squared_error: 0.5265 - val_loss: 0.3014 - val_mean_squared_error: 0.3014\n",
      "Epoch 41/100\n",
      "4/4 [==============================] - 0s 10ms/step - loss: 0.7165 - mean_squared_error: 0.7165 - val_loss: 0.2923 - val_mean_squared_error: 0.2923\n",
      "Epoch 42/100\n",
      "4/4 [==============================] - 0s 9ms/step - loss: 0.7292 - mean_squared_error: 0.7292 - val_loss: 0.2950 - val_mean_squared_error: 0.2950\n",
      "Epoch 43/100\n",
      "4/4 [==============================] - 0s 8ms/step - loss: 0.6609 - mean_squared_error: 0.6609 - val_loss: 0.3769 - val_mean_squared_error: 0.3769\n",
      "Epoch 44/100\n",
      "4/4 [==============================] - 0s 9ms/step - loss: 0.5696 - mean_squared_error: 0.5696 - val_loss: 0.3715 - val_mean_squared_error: 0.3715\n",
      "Epoch 45/100\n",
      "4/4 [==============================] - 0s 9ms/step - loss: 0.7177 - mean_squared_error: 0.7177 - val_loss: 0.3432 - val_mean_squared_error: 0.3432\n",
      "Epoch 46/100\n",
      "4/4 [==============================] - 0s 9ms/step - loss: 0.6979 - mean_squared_error: 0.6979 - val_loss: 0.3289 - val_mean_squared_error: 0.3289\n",
      "Epoch 47/100\n",
      "4/4 [==============================] - 0s 9ms/step - loss: 0.6473 - mean_squared_error: 0.6473 - val_loss: 0.2970 - val_mean_squared_error: 0.2970\n",
      "Epoch 48/100\n",
      "4/4 [==============================] - 0s 9ms/step - loss: 0.4797 - mean_squared_error: 0.4797 - val_loss: 0.2656 - val_mean_squared_error: 0.2656\n",
      "Epoch 49/100\n",
      "4/4 [==============================] - 0s 8ms/step - loss: 0.4948 - mean_squared_error: 0.4948 - val_loss: 0.2594 - val_mean_squared_error: 0.2594\n",
      "Epoch 50/100\n",
      "4/4 [==============================] - 0s 9ms/step - loss: 0.4429 - mean_squared_error: 0.4429 - val_loss: 0.3047 - val_mean_squared_error: 0.3047\n",
      "Epoch 51/100\n",
      "4/4 [==============================] - 0s 9ms/step - loss: 0.6475 - mean_squared_error: 0.6475 - val_loss: 0.2562 - val_mean_squared_error: 0.2562\n",
      "Epoch 52/100\n",
      "4/4 [==============================] - 0s 9ms/step - loss: 0.3847 - mean_squared_error: 0.3847 - val_loss: 0.2604 - val_mean_squared_error: 0.2604\n",
      "Epoch 53/100\n",
      "4/4 [==============================] - 0s 8ms/step - loss: 0.4669 - mean_squared_error: 0.4669 - val_loss: 0.2567 - val_mean_squared_error: 0.2567\n",
      "Epoch 54/100\n",
      "4/4 [==============================] - 0s 10ms/step - loss: 0.3801 - mean_squared_error: 0.3801 - val_loss: 0.2461 - val_mean_squared_error: 0.2461\n",
      "Epoch 55/100\n",
      "4/4 [==============================] - 0s 8ms/step - loss: 0.4788 - mean_squared_error: 0.4788 - val_loss: 0.2521 - val_mean_squared_error: 0.2521\n",
      "Epoch 56/100\n",
      "4/4 [==============================] - 0s 9ms/step - loss: 0.3945 - mean_squared_error: 0.3945 - val_loss: 0.2471 - val_mean_squared_error: 0.2471\n",
      "Epoch 57/100\n",
      "4/4 [==============================] - 0s 8ms/step - loss: 0.4075 - mean_squared_error: 0.4075 - val_loss: 0.2532 - val_mean_squared_error: 0.2532\n",
      "Epoch 58/100\n",
      "4/4 [==============================] - 0s 10ms/step - loss: 0.3639 - mean_squared_error: 0.3639 - val_loss: 0.2316 - val_mean_squared_error: 0.2316\n",
      "Epoch 59/100\n",
      "4/4 [==============================] - 0s 9ms/step - loss: 0.4545 - mean_squared_error: 0.4545 - val_loss: 0.2673 - val_mean_squared_error: 0.2673\n",
      "Epoch 60/100\n",
      "4/4 [==============================] - 0s 9ms/step - loss: 0.5506 - mean_squared_error: 0.5506 - val_loss: 0.2210 - val_mean_squared_error: 0.2210\n",
      "Epoch 61/100\n",
      "4/4 [==============================] - 0s 9ms/step - loss: 0.3425 - mean_squared_error: 0.3425 - val_loss: 0.2314 - val_mean_squared_error: 0.2314\n",
      "Epoch 62/100\n",
      "4/4 [==============================] - 0s 9ms/step - loss: 0.3777 - mean_squared_error: 0.3777 - val_loss: 0.2148 - val_mean_squared_error: 0.2148\n",
      "Epoch 63/100\n",
      "4/4 [==============================] - 0s 9ms/step - loss: 0.3250 - mean_squared_error: 0.3250 - val_loss: 0.1985 - val_mean_squared_error: 0.1985\n",
      "Epoch 64/100\n",
      "4/4 [==============================] - 0s 8ms/step - loss: 0.4812 - mean_squared_error: 0.4812 - val_loss: 0.2055 - val_mean_squared_error: 0.2055\n",
      "Epoch 65/100\n",
      "4/4 [==============================] - 0s 9ms/step - loss: 0.3977 - mean_squared_error: 0.3977 - val_loss: 0.1985 - val_mean_squared_error: 0.1985\n",
      "Epoch 66/100\n",
      "4/4 [==============================] - 0s 8ms/step - loss: 0.3596 - mean_squared_error: 0.3596 - val_loss: 0.2133 - val_mean_squared_error: 0.2133\n",
      "Epoch 67/100\n",
      "4/4 [==============================] - 0s 8ms/step - loss: 0.5396 - mean_squared_error: 0.5396 - val_loss: 0.2278 - val_mean_squared_error: 0.2278\n",
      "Epoch 68/100\n",
      "4/4 [==============================] - 0s 7ms/step - loss: 0.4576 - mean_squared_error: 0.4576 - val_loss: 0.2313 - val_mean_squared_error: 0.2313\n",
      "Epoch 69/100\n",
      "4/4 [==============================] - 0s 9ms/step - loss: 0.3268 - mean_squared_error: 0.3268 - val_loss: 0.2136 - val_mean_squared_error: 0.2136\n",
      "Epoch 70/100\n",
      "4/4 [==============================] - 0s 9ms/step - loss: 0.3951 - mean_squared_error: 0.3951 - val_loss: 0.2300 - val_mean_squared_error: 0.2300\n",
      "Epoch 71/100\n",
      "4/4 [==============================] - 0s 8ms/step - loss: 0.3542 - mean_squared_error: 0.3542 - val_loss: 0.2440 - val_mean_squared_error: 0.2440\n",
      "Epoch 72/100\n",
      "4/4 [==============================] - 0s 10ms/step - loss: 0.4841 - mean_squared_error: 0.4841 - val_loss: 0.2798 - val_mean_squared_error: 0.2798\n",
      "Epoch 73/100\n",
      "4/4 [==============================] - 0s 8ms/step - loss: 0.3049 - mean_squared_error: 0.3049 - val_loss: 0.4889 - val_mean_squared_error: 0.4889\n",
      "Epoch 74/100\n",
      "4/4 [==============================] - ETA: 0s - loss: 0.9972 - mean_squared_error: 0.99 - 0s 8ms/step - loss: 1.0068 - mean_squared_error: 1.0068 - val_loss: 0.2648 - val_mean_squared_error: 0.2648\n",
      "Epoch 75/100\n",
      "4/4 [==============================] - 0s 8ms/step - loss: 0.4403 - mean_squared_error: 0.4403 - val_loss: 0.3507 - val_mean_squared_error: 0.3507\n",
      "Epoch 76/100\n",
      "4/4 [==============================] - 0s 9ms/step - loss: 0.4139 - mean_squared_error: 0.4139 - val_loss: 0.3595 - val_mean_squared_error: 0.3595\n",
      "Epoch 77/100\n",
      "4/4 [==============================] - 0s 7ms/step - loss: 0.5950 - mean_squared_error: 0.5950 - val_loss: 0.2437 - val_mean_squared_error: 0.2437\n",
      "Epoch 78/100\n",
      "4/4 [==============================] - 0s 8ms/step - loss: 0.3027 - mean_squared_error: 0.3027 - val_loss: 0.2382 - val_mean_squared_error: 0.2382\n",
      "Epoch 79/100\n",
      "4/4 [==============================] - 0s 9ms/step - loss: 0.4067 - mean_squared_error: 0.4067 - val_loss: 0.2324 - val_mean_squared_error: 0.2324\n",
      "Epoch 80/100\n",
      "4/4 [==============================] - 0s 10ms/step - loss: 0.3557 - mean_squared_error: 0.3557 - val_loss: 0.3586 - val_mean_squared_error: 0.3586\n",
      "Epoch 81/100\n",
      "4/4 [==============================] - 0s 9ms/step - loss: 0.3249 - mean_squared_error: 0.3249 - val_loss: 0.2953 - val_mean_squared_error: 0.2953\n",
      "Epoch 82/100\n",
      "4/4 [==============================] - 0s 8ms/step - loss: 0.3892 - mean_squared_error: 0.3892 - val_loss: 0.2010 - val_mean_squared_error: 0.2010\n",
      "Epoch 83/100\n",
      "4/4 [==============================] - 0s 8ms/step - loss: 0.3972 - mean_squared_error: 0.3972 - val_loss: 0.2159 - val_mean_squared_error: 0.2159\n",
      "Epoch 84/100\n",
      "4/4 [==============================] - 0s 8ms/step - loss: 0.2777 - mean_squared_error: 0.2777 - val_loss: 0.1984 - val_mean_squared_error: 0.1984\n",
      "Epoch 85/100\n",
      "4/4 [==============================] - 0s 8ms/step - loss: 0.3745 - mean_squared_error: 0.3745 - val_loss: 0.1757 - val_mean_squared_error: 0.1757\n",
      "Epoch 86/100\n",
      "4/4 [==============================] - 0s 8ms/step - loss: 0.2904 - mean_squared_error: 0.2904 - val_loss: 0.1953 - val_mean_squared_error: 0.1953\n",
      "Epoch 87/100\n",
      "4/4 [==============================] - 0s 9ms/step - loss: 0.2516 - mean_squared_error: 0.2516 - val_loss: 0.2067 - val_mean_squared_error: 0.2067\n",
      "Epoch 88/100\n",
      "4/4 [==============================] - 0s 8ms/step - loss: 0.2894 - mean_squared_error: 0.2894 - val_loss: 0.1975 - val_mean_squared_error: 0.1975\n",
      "Epoch 89/100\n",
      "4/4 [==============================] - 0s 9ms/step - loss: 0.3135 - mean_squared_error: 0.3135 - val_loss: 0.1740 - val_mean_squared_error: 0.1740\n",
      "Epoch 90/100\n",
      "4/4 [==============================] - 0s 9ms/step - loss: 0.3615 - mean_squared_error: 0.3615 - val_loss: 0.2461 - val_mean_squared_error: 0.2461\n",
      "Epoch 91/100\n",
      "4/4 [==============================] - 0s 8ms/step - loss: 0.2890 - mean_squared_error: 0.2890 - val_loss: 0.1839 - val_mean_squared_error: 0.1839\n",
      "Epoch 92/100\n",
      "4/4 [==============================] - 0s 9ms/step - loss: 0.2830 - mean_squared_error: 0.2830 - val_loss: 0.2337 - val_mean_squared_error: 0.2337\n",
      "Epoch 93/100\n",
      "4/4 [==============================] - 0s 10ms/step - loss: 0.3242 - mean_squared_error: 0.3242 - val_loss: 0.3480 - val_mean_squared_error: 0.3480\n",
      "Epoch 94/100\n",
      "4/4 [==============================] - 0s 9ms/step - loss: 0.3977 - mean_squared_error: 0.3977 - val_loss: 0.2310 - val_mean_squared_error: 0.2310\n",
      "Epoch 95/100\n",
      "4/4 [==============================] - 0s 9ms/step - loss: 0.3865 - mean_squared_error: 0.3865 - val_loss: 0.1876 - val_mean_squared_error: 0.1876\n",
      "Epoch 96/100\n",
      "4/4 [==============================] - 0s 8ms/step - loss: 0.2379 - mean_squared_error: 0.2379 - val_loss: 0.2104 - val_mean_squared_error: 0.2104\n",
      "Epoch 97/100\n",
      "4/4 [==============================] - 0s 10ms/step - loss: 0.2287 - mean_squared_error: 0.2287 - val_loss: 0.1749 - val_mean_squared_error: 0.1749\n",
      "Epoch 98/100\n",
      "4/4 [==============================] - 0s 8ms/step - loss: 0.3330 - mean_squared_error: 0.3330 - val_loss: 0.1822 - val_mean_squared_error: 0.1822\n",
      "Epoch 99/100\n",
      "4/4 [==============================] - 0s 8ms/step - loss: 0.3078 - mean_squared_error: 0.3078 - val_loss: 0.1895 - val_mean_squared_error: 0.1895\n",
      "Epoch 100/100\n",
      "4/4 [==============================] - 0s 9ms/step - loss: 0.2950 - mean_squared_error: 0.2950 - val_loss: 0.1599 - val_mean_squared_error: 0.1599\n"
     ]
    }
   ],
   "source": [
    "nn.fit(X_train_scaled, y_train, epochs=100, batch_size=256, validation_split=0.3);"
   ]
  },
  {
   "cell_type": "code",
   "execution_count": 47,
   "metadata": {},
   "outputs": [
    {
     "name": "stdout",
     "output_type": "stream",
     "text": [
      "Training MSE: 0.2268\n",
      "Test MSE: 0.1606\n",
      "Training R Squared: 0.817\n",
      "Test R Squared: 0.6303\n"
     ]
    },
    {
     "data": {
      "image/png": "[encoded data removed]",
      "text/plain": [
       "<Figure size 864x288 with 2 Axes>"
      ]
     },
     "metadata": {
      "needs_background": "light"
     },
     "output_type": "display_data"
    }
   ],
   "source": [
    "def nn_model_evaluation(model, skip_epochs=0, X_train=X_train_scaled, X_test=X_test_scaled, y_train=y_train, y_test=y_test):\n",
    "    \n",
    "    # MSE and R Squared values\n",
    "    y_test_pred = model.predict(X_test)\n",
    "    y_train_pred = model.predict(X_train)\n",
    "    print(\"Training MSE:\", round(mean_squared_error(y_train, y_train_pred),4))\n",
    "    print(\"Test MSE:\", round(mean_squared_error(y_test, y_test_pred),4))\n",
    "    print(\"Training R Squared:\", round(r2_score(y_train, y_train_pred),4))\n",
    "    print(\"Test R Squared:\", round(r2_score(y_test, y_test_pred),4))\n",
    "    \n",
    "    # Scatterplot of inferred vs. actual values\n",
    "    fig, (ax1, ax2) = plt.subplots(1, 2, figsize=(12, 4))\n",
    "    fig.suptitle('Predicted vs. Actual Values', fontsize=14, y=1)\n",
    "    plt.subplots_adjust(top=0.85, wspace=0)\n",
    "    \n",
    "    ax1.scatter(y_test, y_test_pred, s=2, alpha=0.7)\n",
    "    ax1.plot(list(range(-1,8)), list(range(-1,8)), color='black', linestyle='--')\n",
    "    ax1.set_title('Test')\n",
    "    ax1.set_xlabel('Actual Values')\n",
    "    ax1.set_ylabel('Inferred values')\n",
    "    \n",
    "    ax2.scatter(y_train, y_train_pred, s=2, alpha=0.7)\n",
    "    ax2.plot(list(range(0,17)), list(range(0,17)), color='black', linestyle='--')\n",
    "    ax2.set_title('Train')\n",
    "    ax2.set_xlabel('Actual Values')\n",
    "    ax2.set_ylabel('')\n",
    "    ax2.set_yticklabels(labels='')\n",
    "    \n",
    "nn_model_evaluation(nn)"
   ]
  },
  {
   "cell_type": "code",
   "execution_count": 48,
   "metadata": {},
   "outputs": [],
   "source": [
    "import pickle\n",
    "with open('rental_model_xgboost.pkl', 'wb') as file:\n",
    "    pickle.dump(xgb_reg, file)"
   ]
  },
  {
   "cell_type": "code",
   "execution_count": 49,
   "metadata": {},
   "outputs": [],
   "source": [
    "nn.save(\"nn_model.h5\")"
   ]
  }
 ],
 "metadata": {
  "kernelspec": {
   "display_name": "Python 3",
   "language": "python",
   "name": "python3"
  },
  "language_info": {
   "codemirror_mode": {
    "name": "ipython",
    "version": 3
   },
   "file_extension": ".py",
   "mimetype": "text/x-python",
   "name": "python",
   "nbconvert_exporter": "python",
   "pygments_lexer": "ipython3",
   "version": "3.8.5"
  }
 },
 "nbformat": 4,
 "nbformat_minor": 4
}
